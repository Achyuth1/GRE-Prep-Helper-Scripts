{
 "cells": [
  {
   "cell_type": "code",
   "execution_count": 2,
   "metadata": {},
   "outputs": [],
   "source": [
    "import pandas as pds\n",
    "import os\n",
    "import numpy as np\n",
    "import pickle\n",
    "\n",
    "columns = [\"Source\", \"Word\", \"Meaning\", \"Usage\", \"Correct\", \"Incorrect\", \"Score\"]"
   ]
  },
  {
   "cell_type": "markdown",
   "metadata": {},
   "source": [
    "# Enter GRE words into the `Pandas.DataFrame`\n",
    "* Checks if entry has already been made for the same word\n",
    "* To exit the loop give any input of `len(word) < 3`\n",
    "* It is saved after every entry"
   ]
  },
  {
   "cell_type": "code",
   "execution_count": 113,
   "metadata": {},
   "outputs": [
    {
     "name": "stdout",
     "output_type": "stream",
     "text": [
      "Enter the source: \n",
      "Source = mag_a7\n",
      "\n",
      "\n",
      "Enter the Word: \n",
      "\n",
      "ENDING THE ENTRY!\n",
      "\n",
      "Word Count in mag_a7: 44 / 1120\n"
     ]
    }
   ],
   "source": [
    "import pandas as pds\n",
    "import os\n",
    "import numpy as np\n",
    "import pickle\n",
    "\n",
    "columns = [\"Source\", \"Word\", \"Meaning\", \n",
    "           \"Usage\", \"Correct\", \"Incorrect\", \"Score\"]\n",
    "\n",
    "def numberOfEntries(df, source):\n",
    "    cond = (df[\"Source\"]==source)\n",
    "    return len(df[\"Word\"][cond])\n",
    "\n",
    "default = \"mag_a7\"\n",
    "source = input(\"Enter the source: \").lower()\n",
    "if len(source)==0:\n",
    "    source = default.lower()\n",
    "    \n",
    "print(\"Source = %s\\n\\n\"%source)\n",
    "\n",
    "if os.path.exists(\"./dataFrame.p\"):\n",
    "    df = pickle.load(open(\"./dataFrame.p\", \"rb\"))\n",
    "else:\n",
    "    df = pds.DataFrame(columns=columns)\n",
    "\n",
    "while(True):\n",
    "    entry = {\"Source\":source,\n",
    "            \"Correct\":0,\n",
    "            \"Incorrect\":0,\n",
    "            \"Score\":-2.0}\n",
    "    for col in [\"Word\", \"Meaning\", \"Usage\"]:\n",
    "        entry[col] = input(\"Enter the %s: \"%col).lower()\n",
    "        if len(entry[col])<3:\n",
    "            entry = {\"Source\":\"NULL\"}\n",
    "            break\n",
    "    if entry[\"Source\"] != \"NULL\":\n",
    "        cond = (df[\"Word\"] == entry[\"Word\"])\n",
    "        if cond.any():\n",
    "            index = df[cond].index[0]\n",
    "            row = df.iloc[index]\n",
    "            print(\"\\nWord %s exists from %s\\n\\t%s = %s\\n\\tEx: %s\\n\"%(row[\"Word\"], row[\"Source\"], \n",
    "                                                               row[\"Word\"], row[\"Meaning\"], \n",
    "                                                               row[\"Usage\"]))\n",
    "            cmd = input(\"Do you wish to replace? Y/N \").lower()\n",
    "            if cmd=='y':\n",
    "                df.at[index, \"Meaning\"] = entry[\"Meaning\"]\n",
    "                df.at[index, \"Usage\"] = entry[\"Usage\"]\n",
    "                print(\"Modification for %s is done\"%(entry[\"Word\"]))\n",
    "                pickle.dump(df, open(\"./dataFrame.p\", \"wb\"))\n",
    "        else:\n",
    "            df = df.append(entry, ignore_index=True, )\n",
    "            pickle.dump(df, open(\"./dataFrame.p\", \"wb\"))\n",
    "            print(\"Entry of '%s' made\\nCurrent entry count:%d\\n\"%(entry[\"Word\"], numberOfEntries(df, source)))\n",
    "    else:\n",
    "        print(\"\\nEnding the entry!\".upper())\n",
    "        break\n",
    "\n",
    "print(\"\\nWord Count in %s: %d / %d\"%(source, numberOfEntries(df, source), len(df)-2))"
   ]
  },
  {
   "cell_type": "markdown",
   "metadata": {},
   "source": [
    "# Dictionary implementation\n",
    "* Paste this cell into a terminal of the same directory and go nuts!\n",
    "* Given a word, its meaning and other details will be given"
   ]
  },
  {
   "cell_type": "code",
   "execution_count": 109,
   "metadata": {
    "scrolled": true
   },
   "outputs": [],
   "source": [
    "import pandas as pds\n",
    "import os\n",
    "import numpy as np\n",
    "import pickle\n",
    "from nltk.corpus import wordnet \n",
    "\n",
    "def get_synonyms(word):\n",
    "    synonyms = []\n",
    "    for syn in wordnet.synsets(word): \n",
    "        for l in syn.lemmas(): \n",
    "            synonyms.append(l.name()) \n",
    "    synonyms = sorted(list(set(synonyms)))\n",
    "    outStr = \"\"\n",
    "    for syn in synonyms:\n",
    "        if syn != word:\n",
    "            outStr += syn\n",
    "            outStr += \", \"\n",
    "    return outStr\n",
    "\n",
    "columns = [\"Source\", \"Word\", \"Meaning\", \"Usage\", \"Correct\", \"Incorrect\", \"Score\"]\n",
    "\n",
    "while(True):\n",
    "    if os.path.exists(\"./dataFrame.p\"):\n",
    "        df = pickle.load(open(\"./dataFrame.p\", \"rb\"))\n",
    "    else:\n",
    "        df = pds.DataFrame(columns=columns)\n",
    "    word = input(\"Enter the word: \").lower()\n",
    "    if word==\"clc\":\n",
    "        os.system(\"clear\")\n",
    "        continue\n",
    "    if len(word)<3:\n",
    "        print(\"\\nDictionary closed!\".upper())\n",
    "        break\n",
    "    cond = (df[\"Word\"] == word)\n",
    "    if cond.any():\n",
    "        index = df[cond].index[0]\n",
    "        row = df.iloc[index]\n",
    "        mean = row[\"Meaning\"]\n",
    "        mean = mean.replace(\"2\" , \"\\n2\")\n",
    "        usage = row[\"Usage\"]\n",
    "        usage = usage.replace(\"2\", \"\\n2\")\n",
    "        print(\"\\nSource : %s : %.2f%%\\n%s = %s\\n\\nEx: %s\\nSynonyms: %s\\n\"%(row[\"Source\"], \n",
    "                                                            row[\"Score\"]*100.0,\n",
    "                                                            row[\"Word\"], \n",
    "                                                            mean, \n",
    "                                                            usage,\n",
    "                                                                       get_synonyms(word)))\n",
    "    else:\n",
    "        print(\"Word '%s' not found in database.\\nPlease check spelling or Enter the word in entry section\\n\"%word)"
   ]
  },
  {
   "cell_type": "markdown",
   "metadata": {},
   "source": [
    "# Print the words into a file"
   ]
  },
  {
   "cell_type": "code",
   "execution_count": 22,
   "metadata": {},
   "outputs": [
    {
     "name": "stdout",
     "output_type": "stream",
     "text": [
      "284\n"
     ]
    }
   ],
   "source": [
    "import pandas as pds\n",
    "import os\n",
    "import numpy as np\n",
    "import pickle\n",
    "\n",
    "columns = [\"Source\", \"Word\", \"Meaning\", \"Usage\", \"Correct\", \"Incorrect\", \"Score\"]\n",
    "df = pickle.load(open(\"./dataFrame.p\", \"rb\"))\n",
    "cond = (df[\"Score\"]<=0.1)#| ((df[\"Score\"]>0.5) & (df[\"Correct\"]==1))\n",
    "df = df[cond]\n",
    "print(len(df))\n",
    "sorted_df = df.sort_values(by=\"Word\")\n",
    "\n",
    "f = open(\"Words_zero.txt\", \"w\")\n",
    "for i,(word,meaning,usage) in enumerate(zip(sorted_df[\"Word\"], \n",
    "                                       sorted_df[\"Meaning\"], \n",
    "                                       sorted_df[\"Usage\"])):\n",
    "    meaning = meaning.replace(\"2\", \"\\n2\")\n",
    "    usage = usage.replace(\"2\", \"\\n2\")\n",
    "    f.write(\"%d. %s:\\n%s\\nEx:  %s\\n\\n\"%(i+1, word, meaning, usage))\n",
    "#     f.write(\"%d,%s\\n\"%(i+1, word))\n",
    "f.close()"
   ]
  },
  {
   "cell_type": "markdown",
   "metadata": {},
   "source": [
    "# Revise Script V 1.0"
   ]
  },
  {
   "cell_type": "code",
   "execution_count": 1,
   "metadata": {},
   "outputs": [
    {
     "name": "stdout",
     "output_type": "stream",
     "text": [
      "1/131) ZEALOUS => Score: New%\n",
      "\n",
      "Source : princeton\n",
      "ZEALOUS = avid; marked by active interest and enthusiasm\n",
      "\n",
      "Ex: the council was extremely zealous in the application of the regulations\n",
      "\n",
      "Remember? :: Y/N \n",
      "\n",
      "Ending revision 0/0!\n"
     ]
    }
   ],
   "source": [
    "import pandas as pds\n",
    "import os\n",
    "import numpy as np\n",
    "import pickle\n",
    "from nltk.corpus import wordnet \n",
    "\n",
    "def get_synonyms(word):\n",
    "    synonyms = []\n",
    "    for syn in wordnet.synsets(word): \n",
    "        for l in syn.lemmas(): \n",
    "            synonyms.append(l.name()) \n",
    "    synonyms = sorted(list(set(synonyms)))\n",
    "    outStr = \"\"\n",
    "    for syn in synonyms:\n",
    "        if syn != word:\n",
    "            outStr += syn\n",
    "            outStr += \", \"\n",
    "    return outStr\n",
    "# cond = df[\"Source\"] == \"princeton\"\n",
    "df = pickle.load(open(\"./dataFrame.p\", \"rb\"))\n",
    "temp_df = df.sample(frac=1).reset_index(drop=True)\n",
    "words = []\n",
    "scores = {}\n",
    "\n",
    "for (word, score, src, c, ic) in zip(temp_df[\"Word\"], temp_df[\"Score\"], \n",
    "                              temp_df[\"Source\"], temp_df[\"Correct\"], \n",
    "                              temp_df[\"Incorrect\"]):\n",
    "    if (score<0.61):\n",
    "        words.append(word)\n",
    "        scores[word] = score\n",
    "\n",
    "def key_scores(word):\n",
    "    global scores\n",
    "    return scores[word]\n",
    "\n",
    "sorted_words = sorted(words, key=key_scores)\n",
    "length = len(sorted_words)\n",
    "fin_score = 0\n",
    "\n",
    "for i,word in enumerate(sorted_words):\n",
    "    cond = (df[\"Word\"] == word)\n",
    "    index = df[cond].index[0]\n",
    "    row = df.iloc[index]\n",
    "    mean = row[\"Meaning\"]\n",
    "    mean = mean.replace(\"2\" , \"\\n2\")\n",
    "    usage = row[\"Usage\"]\n",
    "    usage = usage.replace(\"2\", \"\\n2\")\n",
    "    s = row[\"Score\"]\n",
    "    if s == -2:\n",
    "        string = \"New\"\n",
    "    else:\n",
    "        string = str(int(s*100.))\n",
    "    \n",
    "    temp = input(\"%d/%d) %s => Score: %s%%\"%(i+1, length, word.upper(), string))\n",
    "    print(\"\\nSource : %s\\n%s = %s\\n\\nEx: %s\\nSynonyms: %s\"%(row[\"Source\"], \n",
    "                                                row[\"Word\"].upper(), \n",
    "                                                mean, \n",
    "                                                usage, get_synonyms(row[\"Word\"])))\n",
    "    correct = input(\"Remember? :: Y/N \").lower()\n",
    "    if len(correct) == 0:\n",
    "        break\n",
    "     \n",
    "    if (correct[0] == \"y\"):\n",
    "        df.at[index, \"Correct\"] += 1\n",
    "        fin_score += 1\n",
    "    else:\n",
    "        df.at[index, \"Incorrect\"] += 1\n",
    "    os.system(\"clear\")\n",
    "    c = df.at[index, \"Correct\"]\n",
    "    ic = df.at[index, \"Incorrect\"]\n",
    "    \n",
    "    df.at[index, \"Score\"] = float(c)/float(c+ic)\n",
    "    pickle.dump(df, open(\"./dataFrame.p\", \"wb\"))\n",
    "    \n",
    "\n",
    "print(\"\\nEnding revision %d/%d!\"%(fin_score, i))"
   ]
  },
  {
   "cell_type": "markdown",
   "metadata": {},
   "source": [
    "# Revise Script V 1.1"
   ]
  },
  {
   "cell_type": "code",
   "execution_count": 171,
   "metadata": {},
   "outputs": [],
   "source": [
    "import pandas as pds\n",
    "import os\n",
    "import numpy as np\n",
    "import pickle\n",
    "from nltk.corpus import wordnet \n",
    "\n",
    "def get_synonyms(word):\n",
    "    synonyms = []\n",
    "    for syn in wordnet.synsets(word): \n",
    "        for l in syn.lemmas(): \n",
    "            synonyms.append(l.name()) \n",
    "    synonyms = sorted(list(set(synonyms)))\n",
    "    outStr = \"\"\n",
    "    for syn in synonyms:\n",
    "        if syn != word:\n",
    "            outStr += syn\n",
    "            outStr += \", \"\n",
    "    return outStr\n",
    "\n",
    "# cond = df[\"Source\"] == \"princeton\"\n",
    "df = pickle.load(open(\"./dataFrame.p\", \"rb\"))\n",
    "temp_df = df.sample(frac=1).reset_index(drop=True)\n",
    "words = []\n",
    "scores = {}\n",
    "\n",
    "for (word, score, src, c, ic) in zip(temp_df[\"Word\"], temp_df[\"Score\"], \n",
    "                              temp_df[\"Source\"], temp_df[\"Correct\"], \n",
    "                              temp_df[\"Incorrect\"]):\n",
    "    if (score<0.61):\n",
    "        words.append(word)\n",
    "        scores[word] = score\n",
    "\n",
    "def key_scores(word):\n",
    "    global scores\n",
    "    return scores[word]\n",
    "\n",
    "sorted_words = sorted(words, key=key_scores)\n",
    "length = len(sorted_words)\n",
    "fin_score = 0\n",
    "\n",
    "groupSize = input(\"Group size for revision: \")\n",
    "if len(groupSize)<2:\n",
    "    groupSize = 30\n",
    "else:\n",
    "    groupSize = int(groupSize)\n",
    "    \n",
    "groupCount = int(np.ceil(length/groupSize))\n",
    "\n",
    "\n",
    "for groupIndex in range(groupCount):\n",
    "    currSet = sorted_words[groupIndex*groupSize:(groupIndex+1)*groupSize]\n",
    "    for sweepIndex in range(2):\n",
    "        np.random.shuffle(currSet)\n",
    "        x = 0\n",
    "        for i, word in enumerate(currSet):\n",
    "            cond = (df[\"Word\"] == word)\n",
    "            index = df[cond].index[0]\n",
    "            row = df.iloc[index]\n",
    "            mean = row[\"Meaning\"]\n",
    "            mean = mean.replace(\"2\" , \"\\n2\")\n",
    "            usage = row[\"Usage\"]\n",
    "            usage = usage.replace(\"2\", \"\\n2\")\n",
    "            s = row[\"Score\"]\n",
    "            if s == -2:\n",
    "                string = \"New\"\n",
    "            else:\n",
    "                string = str(int(s*100.))\n",
    "\n",
    "            temp = input(\"G%d/%d: R%d/2: W%d/%d) %s => Score: %s%%\"%(groupIndex+1, groupCount, sweepIndex+1,\n",
    "                                                         i+1, groupSize, word.upper(), string))\n",
    "            print(\"\\nSource : %s\\n%s = %s\\n\\nEx: %s\\nSynonyms: %s\"%(row[\"Source\"], \n",
    "                                                        row[\"Word\"].upper(), \n",
    "                                                        mean, \n",
    "                                                        usage, get_synonyms(row[\"Word\"])))\n",
    "            correct = input(\"Remember? :: Y/N \").lower()\n",
    "            if len(correct) == 0:\n",
    "                break\n",
    "\n",
    "            if (correct[0] == \"y\"):\n",
    "                df.at[index, \"Correct\"] += 1\n",
    "                x += 1\n",
    "                fin_score += 1\n",
    "            else:\n",
    "                df.at[index, \"Incorrect\"] += (1+sweepIndex)\n",
    "            os.system(\"clear\")\n",
    "            c = df.at[index, \"Correct\"]\n",
    "            ic = df.at[index, \"Incorrect\"]\n",
    "\n",
    "            df.at[index, \"Score\"] = float(c)/float(c+ic)\n",
    "            pickle.dump(df, open(\"./dataFrame.p\", \"wb\"))\n",
    "        print(\"Score: G%d/%d :: %d/%d\"%(groupIndex+1, groupCount, x, groupSize))\n",
    "\n",
    "print(\"\\nEnding revision %d/%d!\"%(fin_score, i))"
   ]
  },
  {
   "cell_type": "code",
   "execution_count": 104,
   "metadata": {},
   "outputs": [
    {
     "data": {
      "text/html": [
       "<div>\n",
       "<style scoped>\n",
       "    .dataframe tbody tr th:only-of-type {\n",
       "        vertical-align: middle;\n",
       "    }\n",
       "\n",
       "    .dataframe tbody tr th {\n",
       "        vertical-align: top;\n",
       "    }\n",
       "\n",
       "    .dataframe thead th {\n",
       "        text-align: right;\n",
       "    }\n",
       "</style>\n",
       "<table border=\"1\" class=\"dataframe\">\n",
       "  <thead>\n",
       "    <tr style=\"text-align: right;\">\n",
       "      <th></th>\n",
       "      <th>Source</th>\n",
       "      <th>Word</th>\n",
       "      <th>Meaning</th>\n",
       "      <th>Usage</th>\n",
       "      <th>Correct</th>\n",
       "      <th>Incorrect</th>\n",
       "      <th>Score</th>\n",
       "    </tr>\n",
       "  </thead>\n",
       "  <tbody>\n",
       "  </tbody>\n",
       "</table>\n",
       "</div>"
      ],
      "text/plain": [
       "Empty DataFrame\n",
       "Columns: [Source, Word, Meaning, Usage, Correct, Incorrect, Score]\n",
       "Index: []"
      ]
     },
     "execution_count": 104,
     "metadata": {},
     "output_type": "execute_result"
    }
   ],
   "source": [
    "df = pickle.load(open(\"./dataFrame.p\", \"rb\"))\n",
    "df[df[\"Usage\"].str.contains(\"absti\")]"
   ]
  },
  {
   "cell_type": "code",
   "execution_count": 155,
   "metadata": {
    "scrolled": true
   },
   "outputs": [
    {
     "data": {
      "text/plain": [
       "228"
      ]
     },
     "execution_count": 155,
     "metadata": {},
     "output_type": "execute_result"
    }
   ],
   "source": [
    "df = pickle.load(open(\"./dataFrame.p\", \"rb\"))\n",
    "# df[\"Meaning\"][df[\"Meaning\"].str.contains(\"negative\")]\n",
    "len(df[( (df[\"Correct\"]+df[\"Incorrect\"]) == 2)])"
   ]
  },
  {
   "cell_type": "code",
   "execution_count": 118,
   "metadata": {},
   "outputs": [
    {
     "data": {
      "text/plain": [
       "int"
      ]
     },
     "execution_count": 118,
     "metadata": {},
     "output_type": "execute_result"
    }
   ],
   "source": [
    "type(df[\"Correct\"].values[0])"
   ]
  },
  {
   "cell_type": "code",
   "execution_count": null,
   "metadata": {},
   "outputs": [],
   "source": []
  }
 ],
 "metadata": {
  "kernelspec": {
   "display_name": "Python 3",
   "language": "python",
   "name": "python3"
  },
  "language_info": {
   "codemirror_mode": {
    "name": "ipython",
    "version": 3
   },
   "file_extension": ".py",
   "mimetype": "text/x-python",
   "name": "python",
   "nbconvert_exporter": "python",
   "pygments_lexer": "ipython3",
   "version": "3.5.2"
  }
 },
 "nbformat": 4,
 "nbformat_minor": 2
}
