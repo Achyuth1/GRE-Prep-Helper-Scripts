{
 "cells": [
  {
   "cell_type": "code",
   "execution_count": 1,
   "metadata": {},
   "outputs": [],
   "source": [
    "import pandas as pds\n",
    "import os\n",
    "import numpy as np\n",
    "import pickle\n",
    "\n",
    "columns = [\"Source\", \"Word\", \"Meaning\", \"Usage\", \"Correct\", \"Incorrect\", \"Score\"]"
   ]
  },
  {
   "cell_type": "markdown",
   "metadata": {},
   "source": [
    "# Enter GRE words into the `Pandas.DataFrame`\n",
    "* Checks if entry has already been made for the same word\n",
    "* To exit the loop give any input of `len(word) < 3`\n",
    "* It is saved after every entry"
   ]
  },
  {
   "cell_type": "code",
   "execution_count": 164,
   "metadata": {},
   "outputs": [
    {
     "ename": "KeyboardInterrupt",
     "evalue": "",
     "output_type": "error",
     "traceback": [
      "\u001b[0;31m---------------------------------------------------------------------------\u001b[0m",
      "\u001b[0;31mKeyboardInterrupt\u001b[0m                         Traceback (most recent call last)",
      "\u001b[0;32m~/virtual-envs/tf-cpu-pip3/lib/python3.5/site-packages/ipykernel/kernelbase.py\u001b[0m in \u001b[0;36m_input_request\u001b[0;34m(self, prompt, ident, parent, password)\u001b[0m\n\u001b[1;32m    877\u001b[0m             \u001b[0;32mtry\u001b[0m\u001b[0;34m:\u001b[0m\u001b[0;34m\u001b[0m\u001b[0m\n\u001b[0;32m--> 878\u001b[0;31m                 \u001b[0mident\u001b[0m\u001b[0;34m,\u001b[0m \u001b[0mreply\u001b[0m \u001b[0;34m=\u001b[0m \u001b[0mself\u001b[0m\u001b[0;34m.\u001b[0m\u001b[0msession\u001b[0m\u001b[0;34m.\u001b[0m\u001b[0mrecv\u001b[0m\u001b[0;34m(\u001b[0m\u001b[0mself\u001b[0m\u001b[0;34m.\u001b[0m\u001b[0mstdin_socket\u001b[0m\u001b[0;34m,\u001b[0m \u001b[0;36m0\u001b[0m\u001b[0;34m)\u001b[0m\u001b[0;34m\u001b[0m\u001b[0m\n\u001b[0m\u001b[1;32m    879\u001b[0m             \u001b[0;32mexcept\u001b[0m \u001b[0mException\u001b[0m\u001b[0;34m:\u001b[0m\u001b[0;34m\u001b[0m\u001b[0m\n",
      "\u001b[0;32m~/virtual-envs/tf-cpu-pip3/lib/python3.5/site-packages/jupyter_client/session.py\u001b[0m in \u001b[0;36mrecv\u001b[0;34m(self, socket, mode, content, copy)\u001b[0m\n\u001b[1;32m    802\u001b[0m         \u001b[0;32mtry\u001b[0m\u001b[0;34m:\u001b[0m\u001b[0;34m\u001b[0m\u001b[0m\n\u001b[0;32m--> 803\u001b[0;31m             \u001b[0mmsg_list\u001b[0m \u001b[0;34m=\u001b[0m \u001b[0msocket\u001b[0m\u001b[0;34m.\u001b[0m\u001b[0mrecv_multipart\u001b[0m\u001b[0;34m(\u001b[0m\u001b[0mmode\u001b[0m\u001b[0;34m,\u001b[0m \u001b[0mcopy\u001b[0m\u001b[0;34m=\u001b[0m\u001b[0mcopy\u001b[0m\u001b[0;34m)\u001b[0m\u001b[0;34m\u001b[0m\u001b[0m\n\u001b[0m\u001b[1;32m    804\u001b[0m         \u001b[0;32mexcept\u001b[0m \u001b[0mzmq\u001b[0m\u001b[0;34m.\u001b[0m\u001b[0mZMQError\u001b[0m \u001b[0;32mas\u001b[0m \u001b[0me\u001b[0m\u001b[0;34m:\u001b[0m\u001b[0;34m\u001b[0m\u001b[0m\n",
      "\u001b[0;32m~/virtual-envs/tf-cpu-pip3/lib/python3.5/site-packages/zmq/sugar/socket.py\u001b[0m in \u001b[0;36mrecv_multipart\u001b[0;34m(self, flags, copy, track)\u001b[0m\n\u001b[1;32m    469\u001b[0m         \"\"\"\n\u001b[0;32m--> 470\u001b[0;31m         \u001b[0mparts\u001b[0m \u001b[0;34m=\u001b[0m \u001b[0;34m[\u001b[0m\u001b[0mself\u001b[0m\u001b[0;34m.\u001b[0m\u001b[0mrecv\u001b[0m\u001b[0;34m(\u001b[0m\u001b[0mflags\u001b[0m\u001b[0;34m,\u001b[0m \u001b[0mcopy\u001b[0m\u001b[0;34m=\u001b[0m\u001b[0mcopy\u001b[0m\u001b[0;34m,\u001b[0m \u001b[0mtrack\u001b[0m\u001b[0;34m=\u001b[0m\u001b[0mtrack\u001b[0m\u001b[0;34m)\u001b[0m\u001b[0;34m]\u001b[0m\u001b[0;34m\u001b[0m\u001b[0m\n\u001b[0m\u001b[1;32m    471\u001b[0m         \u001b[0;31m# have first part already, only loop while more to receive\u001b[0m\u001b[0;34m\u001b[0m\u001b[0;34m\u001b[0m\u001b[0m\n",
      "\u001b[0;32mzmq/backend/cython/socket.pyx\u001b[0m in \u001b[0;36mzmq.backend.cython.socket.Socket.recv\u001b[0;34m()\u001b[0m\n",
      "\u001b[0;32mzmq/backend/cython/socket.pyx\u001b[0m in \u001b[0;36mzmq.backend.cython.socket.Socket.recv\u001b[0;34m()\u001b[0m\n",
      "\u001b[0;32mzmq/backend/cython/socket.pyx\u001b[0m in \u001b[0;36mzmq.backend.cython.socket._recv_copy\u001b[0;34m()\u001b[0m\n",
      "\u001b[0;32m~/virtual-envs/tf-cpu-pip3/lib/python3.5/site-packages/zmq/backend/cython/checkrc.pxd\u001b[0m in \u001b[0;36mzmq.backend.cython.checkrc._check_rc\u001b[0;34m()\u001b[0m\n",
      "\u001b[0;31mKeyboardInterrupt\u001b[0m: ",
      "\nDuring handling of the above exception, another exception occurred:\n",
      "\u001b[0;31mKeyboardInterrupt\u001b[0m                         Traceback (most recent call last)",
      "\u001b[0;32m<ipython-input-164-6a0d746fefc3>\u001b[0m in \u001b[0;36m<module>\u001b[0;34m\u001b[0m\n\u001b[1;32m     12\u001b[0m \u001b[0;34m\u001b[0m\u001b[0m\n\u001b[1;32m     13\u001b[0m \u001b[0mdefault\u001b[0m \u001b[0;34m=\u001b[0m \u001b[0;34m\"princeton\"\u001b[0m\u001b[0;34m\u001b[0m\u001b[0m\n\u001b[0;32m---> 14\u001b[0;31m \u001b[0msource\u001b[0m \u001b[0;34m=\u001b[0m \u001b[0minput\u001b[0m\u001b[0;34m(\u001b[0m\u001b[0;34m\"Enter the source: \"\u001b[0m\u001b[0;34m)\u001b[0m\u001b[0;34m.\u001b[0m\u001b[0mlower\u001b[0m\u001b[0;34m(\u001b[0m\u001b[0;34m)\u001b[0m\u001b[0;34m\u001b[0m\u001b[0m\n\u001b[0m\u001b[1;32m     15\u001b[0m \u001b[0;32mif\u001b[0m \u001b[0mlen\u001b[0m\u001b[0;34m(\u001b[0m\u001b[0msource\u001b[0m\u001b[0;34m)\u001b[0m\u001b[0;34m==\u001b[0m\u001b[0;36m0\u001b[0m\u001b[0;34m:\u001b[0m\u001b[0;34m\u001b[0m\u001b[0m\n\u001b[1;32m     16\u001b[0m     \u001b[0msource\u001b[0m \u001b[0;34m=\u001b[0m \u001b[0mdefault\u001b[0m\u001b[0;34m.\u001b[0m\u001b[0mlower\u001b[0m\u001b[0;34m(\u001b[0m\u001b[0;34m)\u001b[0m\u001b[0;34m\u001b[0m\u001b[0m\n",
      "\u001b[0;32m~/virtual-envs/tf-cpu-pip3/lib/python3.5/site-packages/ipykernel/kernelbase.py\u001b[0m in \u001b[0;36mraw_input\u001b[0;34m(self, prompt)\u001b[0m\n\u001b[1;32m    851\u001b[0m             \u001b[0mself\u001b[0m\u001b[0;34m.\u001b[0m\u001b[0m_parent_ident\u001b[0m\u001b[0;34m,\u001b[0m\u001b[0;34m\u001b[0m\u001b[0m\n\u001b[1;32m    852\u001b[0m             \u001b[0mself\u001b[0m\u001b[0;34m.\u001b[0m\u001b[0m_parent_header\u001b[0m\u001b[0;34m,\u001b[0m\u001b[0;34m\u001b[0m\u001b[0m\n\u001b[0;32m--> 853\u001b[0;31m             \u001b[0mpassword\u001b[0m\u001b[0;34m=\u001b[0m\u001b[0;32mFalse\u001b[0m\u001b[0;34m,\u001b[0m\u001b[0;34m\u001b[0m\u001b[0m\n\u001b[0m\u001b[1;32m    854\u001b[0m         )\n\u001b[1;32m    855\u001b[0m \u001b[0;34m\u001b[0m\u001b[0m\n",
      "\u001b[0;32m~/virtual-envs/tf-cpu-pip3/lib/python3.5/site-packages/ipykernel/kernelbase.py\u001b[0m in \u001b[0;36m_input_request\u001b[0;34m(self, prompt, ident, parent, password)\u001b[0m\n\u001b[1;32m    881\u001b[0m             \u001b[0;32mexcept\u001b[0m \u001b[0mKeyboardInterrupt\u001b[0m\u001b[0;34m:\u001b[0m\u001b[0;34m\u001b[0m\u001b[0m\n\u001b[1;32m    882\u001b[0m                 \u001b[0;31m# re-raise KeyboardInterrupt, to truncate traceback\u001b[0m\u001b[0;34m\u001b[0m\u001b[0;34m\u001b[0m\u001b[0m\n\u001b[0;32m--> 883\u001b[0;31m                 \u001b[0;32mraise\u001b[0m \u001b[0mKeyboardInterrupt\u001b[0m\u001b[0;34m\u001b[0m\u001b[0m\n\u001b[0m\u001b[1;32m    884\u001b[0m             \u001b[0;32melse\u001b[0m\u001b[0;34m:\u001b[0m\u001b[0;34m\u001b[0m\u001b[0m\n\u001b[1;32m    885\u001b[0m                 \u001b[0;32mbreak\u001b[0m\u001b[0;34m\u001b[0m\u001b[0m\n",
      "\u001b[0;31mKeyboardInterrupt\u001b[0m: "
     ]
    }
   ],
   "source": [
    "import pandas as pds\n",
    "import os\n",
    "import numpy as np\n",
    "import pickle\n",
    "\n",
    "columns = [\"Source\", \"Word\", \"Meaning\", \n",
    "           \"Usage\", \"Correct\", \"Incorrect\", \"Score\"]\n",
    "\n",
    "def numberOfEntries(df, source):\n",
    "    cond = (df[\"Source\"]==source)\n",
    "    return len(df[\"Word\"][cond])\n",
    "\n",
    "default = \"barrons800\"\n",
    "source = input(\"Enter the source: \").lower()\n",
    "if len(source)==0:\n",
    "    source = default.lower()\n",
    "    \n",
    "print(\"Source = %s\\n\\n\"%source)\n",
    "\n",
    "if os.path.exists(\"./dataFrame.p\"):\n",
    "    df = pickle.load(open(\"./dataFrame.p\", \"rb\"))\n",
    "else:\n",
    "    df = pds.DataFrame(columns=columns)\n",
    "\n",
    "while(True):\n",
    "    entry = {\"Source\":source,\n",
    "            \"Correct\":0,\n",
    "            \"Incorrect\":0,\n",
    "            \"Score\":-2.0}\n",
    "    for col in [\"Word\", \"Meaning\", \"Usage\"]:\n",
    "        entry[col] = input(\"Enter the %s: \"%col).lower()\n",
    "        if len(entry[col])<3:\n",
    "            entry = {\"Source\":\"NULL\"}\n",
    "            break;\n",
    "    if entry[\"Source\"] != \"NULL\":\n",
    "        cond = (df[\"Word\"] == entry[\"Word\"])\n",
    "        if cond.any():\n",
    "            index = df[cond].index[0]\n",
    "            row = df.iloc[index]\n",
    "            print(\"\\nWord %s exists from %s\\n\\t%s = %s\\n\\tEx: %s\\n\"%(row[\"Word\"], row[\"Source\"], \n",
    "                                                               row[\"Word\"], row[\"Meaning\"], \n",
    "                                                               row[\"Usage\"]))\n",
    "            cmd = input(\"Do you wish to replace? Y/N \").lower()\n",
    "            if cmd=='y':\n",
    "                df.at[index, \"Meaning\"] = entry[\"Meaning\"]\n",
    "                df.at[index, \"Usage\"] = entry[\"Usage\"]\n",
    "                print(\"Modification for %s is done\"%(entry[\"Word\"]))\n",
    "                pickle.dump(df, open(\"./dataFrame.p\", \"wb\"))\n",
    "        else:\n",
    "            df = df.append(entry, ignore_index=True, )\n",
    "            pickle.dump(df, open(\"./dataFrame.p\", \"wb\"))\n",
    "            print(\"Entry of '%s' made\\nCurrent entry count:%d\\n\"%(entry[\"Word\"], numberOfEntries(df, source)))\n",
    "    else:\n",
    "        print(\"\\nEnding the entry!\".upper())\n",
    "        break\n",
    "\n",
    "print(\"\\nWord Count in %s: %d / %d\"%(source, numberOfEntries(df, source), len(df)-2))"
   ]
  },
  {
   "cell_type": "markdown",
   "metadata": {},
   "source": [
    "# Dictionary implementation\n",
    "* Paste this cell into a terminal of the same directory and go nuts!\n",
    "* Given a word, its meaning and other details will be given"
   ]
  },
  {
   "cell_type": "code",
   "execution_count": 114,
   "metadata": {
    "scrolled": true
   },
   "outputs": [
    {
     "name": "stdout",
     "output_type": "stream",
     "text": [
      "Enter the word: clemency\n",
      "\n",
      "Source : MAG_B6 : 66.7%\n",
      "clemency = leniency or compassion shown towards offenders by a person or agency charged with administering justice\n",
      "\n",
      "Ex: in the final moments of the trial, during his closing speech, phillips was nearly begging the judge for clemency.\n",
      "\n",
      "Enter the word: \n",
      "\n",
      "DICTIONARY CLOSED!\n"
     ]
    }
   ],
   "source": [
    "import pandas as pds\n",
    "import os\n",
    "import numpy as np\n",
    "import pickle\n",
    "\n",
    "columns = [\"Source\", \"Word\", \"Meaning\", \"Usage\", \"Correct\", \"Incorrect\", \"Score\"]\n",
    "\n",
    "while(True):\n",
    "    if os.path.exists(\"./dataFrame.p\"):\n",
    "        df = pickle.load(open(\"./dataFrame.p\", \"rb\"))\n",
    "    else:\n",
    "        df = pds.DataFrame(columns=columns)\n",
    "    word = input(\"Enter the word: \").lower()\n",
    "    if word==\"clc\":\n",
    "        os.system(\"clear\")\n",
    "        continue\n",
    "    if len(word)<3:\n",
    "        print(\"\\nDictionary closed!\".upper())\n",
    "        break\n",
    "    cond = (df[\"Word\"] == word)\n",
    "    if cond.any():\n",
    "        index = df[cond].index[0]\n",
    "        row = df.iloc[index]\n",
    "        mean = row[\"Meaning\"]\n",
    "        mean = mean.replace(\"2\" , \"\\n2\")\n",
    "        usage = row[\"Usage\"]\n",
    "        usage = usage.replace(\"2\", \"\\n2\")\n",
    "        print(\"\\nSource : %s : %.2f%%\\n%s = %s\\n\\nEx: %s\\n\"%(row[\"Source\"], \n",
    "                                                            row[\"Score\"]*100.0,\n",
    "                                                            row[\"Word\"], \n",
    "                                                            mean, \n",
    "                                                            usage))\n",
    "    else:\n",
    "        print(\"Word '%s' not found in database.\\nPlease check spelling or Enter the word in entry section\\n\"%word)"
   ]
  },
  {
   "cell_type": "markdown",
   "metadata": {},
   "source": [
    "# Print the words into a file"
   ]
  },
  {
   "cell_type": "code",
   "execution_count": 22,
   "metadata": {},
   "outputs": [
    {
     "name": "stdout",
     "output_type": "stream",
     "text": [
      "284\n"
     ]
    }
   ],
   "source": [
    "import pandas as pds\n",
    "import os\n",
    "import numpy as np\n",
    "import pickle\n",
    "\n",
    "columns = [\"Source\", \"Word\", \"Meaning\", \"Usage\", \"Correct\", \"Incorrect\", \"Score\"]\n",
    "df = pickle.load(open(\"./dataFrame.p\", \"rb\"))\n",
    "cond = (df[\"Score\"]<=0.1)#| ((df[\"Score\"]>0.5) & (df[\"Correct\"]==1))\n",
    "df = df[cond]\n",
    "print(len(df))\n",
    "sorted_df = df.sort_values(by=\"Word\")\n",
    "\n",
    "f = open(\"Words_zero.txt\", \"w\")\n",
    "for i,(word,meaning,usage) in enumerate(zip(sorted_df[\"Word\"], \n",
    "                                       sorted_df[\"Meaning\"], \n",
    "                                       sorted_df[\"Usage\"])):\n",
    "    meaning = meaning.replace(\"2\", \"\\n2\")\n",
    "    usage = usage.replace(\"2\", \"\\n2\")\n",
    "    f.write(\"%d. %s:\\n%s\\nEx:  %s\\n\\n\"%(i+1, word, meaning, usage))\n",
    "#     f.write(\"%d,%s\\n\"%(i+1, word))\n",
    "f.close()"
   ]
  },
  {
   "cell_type": "markdown",
   "metadata": {},
   "source": [
    "# Revise Script V 1.0"
   ]
  },
  {
   "cell_type": "code",
   "execution_count": 1,
   "metadata": {},
   "outputs": [
    {
     "name": "stdout",
     "output_type": "stream",
     "text": [
      "1/131) ZEALOUS => Score: New%\n",
      "\n",
      "Source : princeton\n",
      "ZEALOUS = avid; marked by active interest and enthusiasm\n",
      "\n",
      "Ex: the council was extremely zealous in the application of the regulations\n",
      "\n",
      "Remember? :: Y/N \n",
      "\n",
      "Ending revision 0/0!\n"
     ]
    }
   ],
   "source": [
    "import pandas as pds\n",
    "import os\n",
    "import numpy as np\n",
    "import pickle\n",
    "\n",
    "# cond = df[\"Source\"] == \"princeton\"\n",
    "df = pickle.load(open(\"./dataFrame.p\", \"rb\"))\n",
    "temp_df = df.sample(frac=1).reset_index(drop=True)\n",
    "words = []\n",
    "scores = {}\n",
    "\n",
    "for (word, score, src, c, ic) in zip(temp_df[\"Word\"], temp_df[\"Score\"], \n",
    "                              temp_df[\"Source\"], temp_df[\"Correct\"], \n",
    "                              temp_df[\"Incorrect\"]):\n",
    "    if (score<0.61):\n",
    "        words.append(word)\n",
    "        scores[word] = score\n",
    "\n",
    "def key_scores(word):\n",
    "    global scores\n",
    "    return scores[word]\n",
    "\n",
    "sorted_words = sorted(words, key=key_scores)\n",
    "length = len(sorted_words)\n",
    "fin_score = 0\n",
    "\n",
    "for i,word in enumerate(sorted_words):\n",
    "    cond = (df[\"Word\"] == word)\n",
    "    index = df[cond].index[0]\n",
    "    row = df.iloc[index]\n",
    "    mean = row[\"Meaning\"]\n",
    "    mean = mean.replace(\"2\" , \"\\n2\")\n",
    "    usage = row[\"Usage\"]\n",
    "    usage = usage.replace(\"2\", \"\\n2\")\n",
    "    s = row[\"Score\"]\n",
    "    if s == -2:\n",
    "        string = \"New\"\n",
    "    else:\n",
    "        string = str(int(s*100.))\n",
    "    \n",
    "    temp = input(\"%d/%d) %s => Score: %s%%\"%(i+1, length, word.upper(), string))\n",
    "    print(\"\\nSource : %s\\n%s = %s\\n\\nEx: %s\\n\"%(row[\"Source\"], \n",
    "                                                row[\"Word\"].upper(), \n",
    "                                                mean, \n",
    "                                                usage))\n",
    "    correct = input(\"Remember? :: Y/N \").lower()\n",
    "    if len(correct) == 0:\n",
    "        break\n",
    "     \n",
    "    if (correct[0] == \"y\"):\n",
    "        df.at[index, \"Correct\"] += 1\n",
    "        fin_score += 1\n",
    "    else:\n",
    "        df.at[index, \"Incorrect\"] += 1\n",
    "    os.system(\"clear\")\n",
    "    c = df.at[index, \"Correct\"]\n",
    "    ic = df.at[index, \"Incorrect\"]\n",
    "    \n",
    "    df.at[index, \"Score\"] = float(c)/float(c+ic)\n",
    "    pickle.dump(df, open(\"./dataFrame.p\", \"wb\"))\n",
    "    \n",
    "\n",
    "print(\"\\nEnding revision %d/%d!\"%(fin_score, i))"
   ]
  },
  {
   "cell_type": "markdown",
   "metadata": {},
   "source": [
    "# Revise Script V 1.1"
   ]
  },
  {
   "cell_type": "code",
   "execution_count": 119,
   "metadata": {},
   "outputs": [
    {
     "name": "stdout",
     "output_type": "stream",
     "text": [
      "Group size for revision: \n",
      "G1/18: R1/2: W1/30) INCENSE => Score: 50%\n",
      "\n",
      "Source : MAG_B6\n",
      "INCENSE = make furious\n",
      "\n",
      "Ex: when herb bought football tickets for a game on the day of their wedding anniversary, jill was incensed.\n",
      "\n"
     ]
    },
    {
     "ename": "KeyboardInterrupt",
     "evalue": "",
     "output_type": "error",
     "traceback": [
      "\u001b[0;31m---------------------------------------------------------------------------\u001b[0m",
      "\u001b[0;31mKeyboardInterrupt\u001b[0m                         Traceback (most recent call last)",
      "\u001b[0;32m~/virtual-envs/tf-cpu-pip3/lib/python3.5/site-packages/ipykernel/kernelbase.py\u001b[0m in \u001b[0;36m_input_request\u001b[0;34m(self, prompt, ident, parent, password)\u001b[0m\n\u001b[1;32m    877\u001b[0m             \u001b[0;32mtry\u001b[0m\u001b[0;34m:\u001b[0m\u001b[0;34m\u001b[0m\u001b[0m\n\u001b[0;32m--> 878\u001b[0;31m                 \u001b[0mident\u001b[0m\u001b[0;34m,\u001b[0m \u001b[0mreply\u001b[0m \u001b[0;34m=\u001b[0m \u001b[0mself\u001b[0m\u001b[0;34m.\u001b[0m\u001b[0msession\u001b[0m\u001b[0;34m.\u001b[0m\u001b[0mrecv\u001b[0m\u001b[0;34m(\u001b[0m\u001b[0mself\u001b[0m\u001b[0;34m.\u001b[0m\u001b[0mstdin_socket\u001b[0m\u001b[0;34m,\u001b[0m \u001b[0;36m0\u001b[0m\u001b[0;34m)\u001b[0m\u001b[0;34m\u001b[0m\u001b[0m\n\u001b[0m\u001b[1;32m    879\u001b[0m             \u001b[0;32mexcept\u001b[0m \u001b[0mException\u001b[0m\u001b[0;34m:\u001b[0m\u001b[0;34m\u001b[0m\u001b[0m\n",
      "\u001b[0;32m~/virtual-envs/tf-cpu-pip3/lib/python3.5/site-packages/jupyter_client/session.py\u001b[0m in \u001b[0;36mrecv\u001b[0;34m(self, socket, mode, content, copy)\u001b[0m\n\u001b[1;32m    802\u001b[0m         \u001b[0;32mtry\u001b[0m\u001b[0;34m:\u001b[0m\u001b[0;34m\u001b[0m\u001b[0m\n\u001b[0;32m--> 803\u001b[0;31m             \u001b[0mmsg_list\u001b[0m \u001b[0;34m=\u001b[0m \u001b[0msocket\u001b[0m\u001b[0;34m.\u001b[0m\u001b[0mrecv_multipart\u001b[0m\u001b[0;34m(\u001b[0m\u001b[0mmode\u001b[0m\u001b[0;34m,\u001b[0m \u001b[0mcopy\u001b[0m\u001b[0;34m=\u001b[0m\u001b[0mcopy\u001b[0m\u001b[0;34m)\u001b[0m\u001b[0;34m\u001b[0m\u001b[0m\n\u001b[0m\u001b[1;32m    804\u001b[0m         \u001b[0;32mexcept\u001b[0m \u001b[0mzmq\u001b[0m\u001b[0;34m.\u001b[0m\u001b[0mZMQError\u001b[0m \u001b[0;32mas\u001b[0m \u001b[0me\u001b[0m\u001b[0;34m:\u001b[0m\u001b[0;34m\u001b[0m\u001b[0m\n",
      "\u001b[0;32m~/virtual-envs/tf-cpu-pip3/lib/python3.5/site-packages/zmq/sugar/socket.py\u001b[0m in \u001b[0;36mrecv_multipart\u001b[0;34m(self, flags, copy, track)\u001b[0m\n\u001b[1;32m    469\u001b[0m         \"\"\"\n\u001b[0;32m--> 470\u001b[0;31m         \u001b[0mparts\u001b[0m \u001b[0;34m=\u001b[0m \u001b[0;34m[\u001b[0m\u001b[0mself\u001b[0m\u001b[0;34m.\u001b[0m\u001b[0mrecv\u001b[0m\u001b[0;34m(\u001b[0m\u001b[0mflags\u001b[0m\u001b[0;34m,\u001b[0m \u001b[0mcopy\u001b[0m\u001b[0;34m=\u001b[0m\u001b[0mcopy\u001b[0m\u001b[0;34m,\u001b[0m \u001b[0mtrack\u001b[0m\u001b[0;34m=\u001b[0m\u001b[0mtrack\u001b[0m\u001b[0;34m)\u001b[0m\u001b[0;34m]\u001b[0m\u001b[0;34m\u001b[0m\u001b[0m\n\u001b[0m\u001b[1;32m    471\u001b[0m         \u001b[0;31m# have first part already, only loop while more to receive\u001b[0m\u001b[0;34m\u001b[0m\u001b[0;34m\u001b[0m\u001b[0m\n",
      "\u001b[0;32mzmq/backend/cython/socket.pyx\u001b[0m in \u001b[0;36mzmq.backend.cython.socket.Socket.recv\u001b[0;34m()\u001b[0m\n",
      "\u001b[0;32mzmq/backend/cython/socket.pyx\u001b[0m in \u001b[0;36mzmq.backend.cython.socket.Socket.recv\u001b[0;34m()\u001b[0m\n",
      "\u001b[0;32mzmq/backend/cython/socket.pyx\u001b[0m in \u001b[0;36mzmq.backend.cython.socket._recv_copy\u001b[0;34m()\u001b[0m\n",
      "\u001b[0;32m~/virtual-envs/tf-cpu-pip3/lib/python3.5/site-packages/zmq/backend/cython/checkrc.pxd\u001b[0m in \u001b[0;36mzmq.backend.cython.checkrc._check_rc\u001b[0;34m()\u001b[0m\n",
      "\u001b[0;31mKeyboardInterrupt\u001b[0m: ",
      "\nDuring handling of the above exception, another exception occurred:\n",
      "\u001b[0;31mKeyboardInterrupt\u001b[0m                         Traceback (most recent call last)",
      "\u001b[0;32m<ipython-input-119-59e7124ff431>\u001b[0m in \u001b[0;36m<module>\u001b[0;34m\u001b[0m\n\u001b[1;32m     59\u001b[0m                                                         \u001b[0mmean\u001b[0m\u001b[0;34m,\u001b[0m\u001b[0;34m\u001b[0m\u001b[0m\n\u001b[1;32m     60\u001b[0m                                                         usage))\n\u001b[0;32m---> 61\u001b[0;31m             \u001b[0mcorrect\u001b[0m \u001b[0;34m=\u001b[0m \u001b[0minput\u001b[0m\u001b[0;34m(\u001b[0m\u001b[0;34m\"Remember? :: Y/N \"\u001b[0m\u001b[0;34m)\u001b[0m\u001b[0;34m.\u001b[0m\u001b[0mlower\u001b[0m\u001b[0;34m(\u001b[0m\u001b[0;34m)\u001b[0m\u001b[0;34m\u001b[0m\u001b[0m\n\u001b[0m\u001b[1;32m     62\u001b[0m             \u001b[0;32mif\u001b[0m \u001b[0mlen\u001b[0m\u001b[0;34m(\u001b[0m\u001b[0mcorrect\u001b[0m\u001b[0;34m)\u001b[0m \u001b[0;34m==\u001b[0m \u001b[0;36m0\u001b[0m\u001b[0;34m:\u001b[0m\u001b[0;34m\u001b[0m\u001b[0m\n\u001b[1;32m     63\u001b[0m                 \u001b[0;32mbreak\u001b[0m\u001b[0;34m\u001b[0m\u001b[0m\n",
      "\u001b[0;32m~/virtual-envs/tf-cpu-pip3/lib/python3.5/site-packages/ipykernel/kernelbase.py\u001b[0m in \u001b[0;36mraw_input\u001b[0;34m(self, prompt)\u001b[0m\n\u001b[1;32m    851\u001b[0m             \u001b[0mself\u001b[0m\u001b[0;34m.\u001b[0m\u001b[0m_parent_ident\u001b[0m\u001b[0;34m,\u001b[0m\u001b[0;34m\u001b[0m\u001b[0m\n\u001b[1;32m    852\u001b[0m             \u001b[0mself\u001b[0m\u001b[0;34m.\u001b[0m\u001b[0m_parent_header\u001b[0m\u001b[0;34m,\u001b[0m\u001b[0;34m\u001b[0m\u001b[0m\n\u001b[0;32m--> 853\u001b[0;31m             \u001b[0mpassword\u001b[0m\u001b[0;34m=\u001b[0m\u001b[0;32mFalse\u001b[0m\u001b[0;34m,\u001b[0m\u001b[0;34m\u001b[0m\u001b[0m\n\u001b[0m\u001b[1;32m    854\u001b[0m         )\n\u001b[1;32m    855\u001b[0m \u001b[0;34m\u001b[0m\u001b[0m\n",
      "\u001b[0;32m~/virtual-envs/tf-cpu-pip3/lib/python3.5/site-packages/ipykernel/kernelbase.py\u001b[0m in \u001b[0;36m_input_request\u001b[0;34m(self, prompt, ident, parent, password)\u001b[0m\n\u001b[1;32m    881\u001b[0m             \u001b[0;32mexcept\u001b[0m \u001b[0mKeyboardInterrupt\u001b[0m\u001b[0;34m:\u001b[0m\u001b[0;34m\u001b[0m\u001b[0m\n\u001b[1;32m    882\u001b[0m                 \u001b[0;31m# re-raise KeyboardInterrupt, to truncate traceback\u001b[0m\u001b[0;34m\u001b[0m\u001b[0;34m\u001b[0m\u001b[0m\n\u001b[0;32m--> 883\u001b[0;31m                 \u001b[0;32mraise\u001b[0m \u001b[0mKeyboardInterrupt\u001b[0m\u001b[0;34m\u001b[0m\u001b[0m\n\u001b[0m\u001b[1;32m    884\u001b[0m             \u001b[0;32melse\u001b[0m\u001b[0;34m:\u001b[0m\u001b[0;34m\u001b[0m\u001b[0m\n\u001b[1;32m    885\u001b[0m                 \u001b[0;32mbreak\u001b[0m\u001b[0;34m\u001b[0m\u001b[0m\n",
      "\u001b[0;31mKeyboardInterrupt\u001b[0m: "
     ]
    }
   ],
   "source": [
    "import pandas as pds\n",
    "import os\n",
    "import numpy as np\n",
    "import pickle\n",
    "\n",
    "# cond = df[\"Source\"] == \"princeton\"\n",
    "df = pickle.load(open(\"./dataFrame.p\", \"rb\"))\n",
    "temp_df = df.sample(frac=1).reset_index(drop=True)\n",
    "words = []\n",
    "scores = {}\n",
    "\n",
    "for (word, score, src, c, ic) in zip(temp_df[\"Word\"], temp_df[\"Score\"], \n",
    "                              temp_df[\"Source\"], temp_df[\"Correct\"], \n",
    "                              temp_df[\"Incorrect\"]):\n",
    "    if (score<0.61):\n",
    "        words.append(word)\n",
    "        scores[word] = score\n",
    "\n",
    "def key_scores(word):\n",
    "    global scores\n",
    "    return scores[word]\n",
    "\n",
    "sorted_words = sorted(words, key=key_scores)\n",
    "length = len(sorted_words)\n",
    "fin_score = 0\n",
    "\n",
    "groupSize = input(\"Group size for revision: \")\n",
    "if len(groupSize)<2:\n",
    "    groupSize = 30\n",
    "else:\n",
    "    groupSize = int(groupSize)\n",
    "    \n",
    "groupCount = int(np.ceil(length/groupSize))\n",
    "\n",
    "\n",
    "for groupIndex in range(groupCount):\n",
    "    currSet = sorted_words[groupIndex*groupSize:(groupIndex+1)*groupSize]\n",
    "    for sweepIndex in range(2):\n",
    "        np.random.shuffle(currSet)\n",
    "        x = 0\n",
    "        for i, word in enumerate(currSet):\n",
    "            cond = (df[\"Word\"] == word)\n",
    "            index = df[cond].index[0]\n",
    "            row = df.iloc[index]\n",
    "            mean = row[\"Meaning\"]\n",
    "            mean = mean.replace(\"2\" , \"\\n2\")\n",
    "            usage = row[\"Usage\"]\n",
    "            usage = usage.replace(\"2\", \"\\n2\")\n",
    "            s = row[\"Score\"]\n",
    "            if s == -2:\n",
    "                string = \"New\"\n",
    "            else:\n",
    "                string = str(int(s*100.))\n",
    "\n",
    "            temp = input(\"G%d/%d: R%d/2: W%d/%d) %s => Score: %s%%\"%(groupIndex+1, groupCount, sweepIndex+1,\n",
    "                                                         i+1, groupSize, word.upper(), string))\n",
    "            print(\"\\nSource : %s\\n%s = %s\\n\\nEx: %s\\n\"%(row[\"Source\"], \n",
    "                                                        row[\"Word\"].upper(), \n",
    "                                                        mean, \n",
    "                                                        usage))\n",
    "            correct = input(\"Remember? :: Y/N \").lower()\n",
    "            if len(correct) == 0:\n",
    "                break\n",
    "\n",
    "            if (correct[0] == \"y\"):\n",
    "                df.at[index, \"Correct\"] += 1\n",
    "                x += 1\n",
    "                fin_score += 1\n",
    "            else:\n",
    "                df.at[index, \"Incorrect\"] += (1+sweepIndex)\n",
    "            os.system(\"clear\")\n",
    "            c = df.at[index, \"Correct\"]\n",
    "            ic = df.at[index, \"Incorrect\"]\n",
    "\n",
    "            df.at[index, \"Score\"] = float(c)/float(c+ic)\n",
    "            pickle.dump(df, open(\"./dataFrame.p\", \"wb\"))\n",
    "        print(\"Score: G%d/%d :: %d/%d\"%(groupIndex+1, groupCount, x, groupSize))\n",
    "\n",
    "print(\"\\nEnding revision %d/%d!\"%(fin_score, i))"
   ]
  },
  {
   "cell_type": "code",
   "execution_count": 28,
   "metadata": {},
   "outputs": [
    {
     "data": {
      "text/plain": [
       "2.0"
      ]
     },
     "execution_count": 28,
     "metadata": {},
     "output_type": "execute_result"
    }
   ],
   "source": [
    "np.ceil(9/5)"
   ]
  },
  {
   "cell_type": "code",
   "execution_count": 36,
   "metadata": {},
   "outputs": [],
   "source": [
    "x = [1,2,3,4,5,6,7,8,9,0]"
   ]
  },
  {
   "cell_type": "code",
   "execution_count": 30,
   "metadata": {},
   "outputs": [],
   "source": [
    "np.random.shuffle(x)"
   ]
  },
  {
   "cell_type": "code",
   "execution_count": 31,
   "metadata": {},
   "outputs": [
    {
     "data": {
      "text/plain": [
       "[7, 3, 6, 1, 2, 5, 4]"
      ]
     },
     "execution_count": 31,
     "metadata": {},
     "output_type": "execute_result"
    }
   ],
   "source": [
    "x"
   ]
  },
  {
   "cell_type": "code",
   "execution_count": 37,
   "metadata": {},
   "outputs": [],
   "source": [
    "a = x[0:5]\n",
    "np.random.shuffle(a)"
   ]
  },
  {
   "cell_type": "code",
   "execution_count": 38,
   "metadata": {},
   "outputs": [
    {
     "data": {
      "text/plain": [
       "[1, 2, 3, 4, 5, 6, 7, 8, 9, 0]"
      ]
     },
     "execution_count": 38,
     "metadata": {},
     "output_type": "execute_result"
    }
   ],
   "source": [
    "x"
   ]
  },
  {
   "cell_type": "code",
   "execution_count": 39,
   "metadata": {},
   "outputs": [
    {
     "data": {
      "text/plain": [
       "[5, 2, 4, 3, 1]"
      ]
     },
     "execution_count": 39,
     "metadata": {},
     "output_type": "execute_result"
    }
   ],
   "source": [
    "a"
   ]
  },
  {
   "cell_type": "code",
   "execution_count": 156,
   "metadata": {},
   "outputs": [
    {
     "data": {
      "text/html": [
       "<div>\n",
       "<style scoped>\n",
       "    .dataframe tbody tr th:only-of-type {\n",
       "        vertical-align: middle;\n",
       "    }\n",
       "\n",
       "    .dataframe tbody tr th {\n",
       "        vertical-align: top;\n",
       "    }\n",
       "\n",
       "    .dataframe thead th {\n",
       "        text-align: right;\n",
       "    }\n",
       "</style>\n",
       "<table border=\"1\" class=\"dataframe\">\n",
       "  <thead>\n",
       "    <tr style=\"text-align: right;\">\n",
       "      <th></th>\n",
       "      <th>Source</th>\n",
       "      <th>Word</th>\n",
       "      <th>Meaning</th>\n",
       "      <th>Usage</th>\n",
       "      <th>Correct</th>\n",
       "      <th>Incorrect</th>\n",
       "      <th>Score</th>\n",
       "    </tr>\n",
       "  </thead>\n",
       "  <tbody>\n",
       "    <tr>\n",
       "      <th>302</th>\n",
       "      <td>mag_c4</td>\n",
       "      <td>petulant</td>\n",
       "      <td>easily irritated or annoyed</td>\n",
       "      <td>although the three year old was often describe...</td>\n",
       "      <td>2</td>\n",
       "      <td>4</td>\n",
       "      <td>0.333333</td>\n",
       "    </tr>\n",
       "    <tr>\n",
       "      <th>620</th>\n",
       "      <td>mag_b4</td>\n",
       "      <td>perpetuate</td>\n",
       "      <td>cause to continue</td>\n",
       "      <td>if you do not let him do things for himself, y...</td>\n",
       "      <td>2</td>\n",
       "      <td>0</td>\n",
       "      <td>1.000000</td>\n",
       "    </tr>\n",
       "    <tr>\n",
       "      <th>827</th>\n",
       "      <td>princeton</td>\n",
       "      <td>impetuous</td>\n",
       "      <td>characterized by undue haste and lack of thoug...</td>\n",
       "      <td>an impetuous display of spending and gambling</td>\n",
       "      <td>1</td>\n",
       "      <td>5</td>\n",
       "      <td>0.166667</td>\n",
       "    </tr>\n",
       "  </tbody>\n",
       "</table>\n",
       "</div>"
      ],
      "text/plain": [
       "        Source        Word                                            Meaning  \\\n",
       "302     mag_c4    petulant                        easily irritated or annoyed   \n",
       "620     mag_b4  perpetuate                                  cause to continue   \n",
       "827  princeton   impetuous  characterized by undue haste and lack of thoug...   \n",
       "\n",
       "                                                 Usage Correct Incorrect  \\\n",
       "302  although the three year old was often describe...       2         4   \n",
       "620  if you do not let him do things for himself, y...       2         0   \n",
       "827      an impetuous display of spending and gambling       1         5   \n",
       "\n",
       "        Score  \n",
       "302  0.333333  \n",
       "620  1.000000  \n",
       "827  0.166667  "
      ]
     },
     "execution_count": 156,
     "metadata": {},
     "output_type": "execute_result"
    }
   ],
   "source": [
    "df = pickle.load(open(\"./dataFrame.p\", \"rb\"))\n",
    "df[df[\"Word\"].str.contains('petu')]"
   ]
  },
  {
   "cell_type": "code",
   "execution_count": 155,
   "metadata": {},
   "outputs": [
    {
     "data": {
      "text/plain": [
       "228"
      ]
     },
     "execution_count": 155,
     "metadata": {},
     "output_type": "execute_result"
    }
   ],
   "source": [
    "df = pickle.load(open(\"./dataFrame.p\", \"rb\"))\n",
    "# df[\"Meaning\"][df[\"Meaning\"].str.contains(\"negative\")]\n",
    "len(df[( (df[\"Correct\"]+df[\"Incorrect\"]) == 2)])"
   ]
  },
  {
   "cell_type": "code",
   "execution_count": 122,
   "metadata": {},
   "outputs": [
    {
     "data": {
      "text/plain": [
       "17.9"
      ]
     },
     "execution_count": 122,
     "metadata": {},
     "output_type": "execute_result"
    }
   ],
   "source": [
    "537/30"
   ]
  },
  {
   "cell_type": "code",
   "execution_count": 163,
   "metadata": {},
   "outputs": [
    {
     "name": "stdout",
     "output_type": "stream",
     "text": [
      "0.00 4\n",
      "0.10 1\n",
      "0.11 1\n",
      "0.12 2\n",
      "0.14 3\n",
      "0.17 7\n",
      "0.22 1\n",
      "0.25 4\n",
      "0.29 6\n",
      "0.33 63\n",
      "0.40 13\n",
      "0.43 3\n",
      "0.50 20\n",
      "0.60 18\n",
      "0.67 223\n",
      "0.75 35\n",
      "1.00 481\n"
     ]
    },
    {
     "data": {
      "text/plain": [
       "(array([  4.,  14.,  11.,  63.,  16.,  38., 223.,  35.,   0., 481.]),\n",
       " array([0. , 0.1, 0.2, 0.3, 0.4, 0.5, 0.6, 0.7, 0.8, 0.9, 1. ]),\n",
       " <a list of 10 Patch objects>)"
      ]
     },
     "execution_count": 163,
     "metadata": {},
     "output_type": "execute_result"
    },
    {
     "data": {
      "image/png": "[encoded data removed]",
      "text/plain": [
       "<Figure size 432x288 with 1 Axes>"
      ]
     },
     "metadata": {
      "needs_background": "light"
     },
     "output_type": "display_data"
    }
   ],
   "source": [
    "from matplotlib import pyplot as plt\n",
    "\n",
    "df = pickle.load(open(\"./dataFrame.p\", \"rb\"))\n",
    "x = []\n",
    "for s in sorted(list(set(list(df[\"Score\"].values)))):\n",
    "    print(\"%.2f\"%s, len(df[df[\"Score\"]==s]))\n",
    "plt.hist(list(df[\"Score\"].values))"
   ]
  },
  {
   "cell_type": "code",
   "execution_count": 135,
   "metadata": {},
   "outputs": [
    {
     "data": {
      "text/plain": [
       "12.8"
      ]
     },
     "execution_count": 135,
     "metadata": {},
     "output_type": "execute_result"
    }
   ],
   "source": [
    "384/30"
   ]
  },
  {
   "cell_type": "code",
   "execution_count": 158,
   "metadata": {},
   "outputs": [],
   "source": [
    "from matplotlib import pyplot as plt"
   ]
  },
  {
   "cell_type": "code",
   "execution_count": 162,
   "metadata": {},
   "outputs": [
    {
     "data": {
      "text/plain": [
       "(array([  4.,  22.,   8.,  82.,   3.,  27., 223.,  35.,   0., 481.]),\n",
       " array([0. , 0.1, 0.2, 0.3, 0.4, 0.5, 0.6, 0.7, 0.8, 0.9, 1. ]),\n",
       " <a list of 10 Patch objects>)"
      ]
     },
     "execution_count": 162,
     "metadata": {},
     "output_type": "execute_result"
    },
    {
     "data": {
      "image/png": "[encoded data removed]",
      "text/plain": [
       "<Figure size 432x288 with 1 Axes>"
      ]
     },
     "metadata": {
      "needs_background": "light"
     },
     "output_type": "display_data"
    }
   ],
   "source": [
    "plt.hist(x = list(df[\"Score\"].values), bins=10)"
   ]
  },
  {
   "cell_type": "code",
   "execution_count": null,
   "metadata": {},
   "outputs": [],
   "source": []
  }
 ],
 "metadata": {
  "kernelspec": {
   "display_name": "Python 3",
   "language": "python",
   "name": "python3"
  },
  "language_info": {
   "codemirror_mode": {
    "name": "ipython",
    "version": 3
   },
   "file_extension": ".py",
   "mimetype": "text/x-python",
   "name": "python",
   "nbconvert_exporter": "python",
   "pygments_lexer": "ipython3",
   "version": "3.5.2"
  }
 },
 "nbformat": 4,
 "nbformat_minor": 2
}
