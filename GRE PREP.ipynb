{
 "cells": [
  {
   "cell_type": "code",
   "execution_count": 1,
   "metadata": {},
   "outputs": [],
   "source": [
    "import pandas as pds\n",
    "import os\n",
    "import numpy as np\n",
    "import pickle\n",
    "\n",
    "columns = [\"Source\", \"Word\", \"Meaning\", \"Usage\", \"Correct\", \"Incorrect\", \"Score\"]"
   ]
  },
  {
   "cell_type": "markdown",
   "metadata": {},
   "source": [
    "# Enter GRE words into the `Pandas.DataFrame`\n",
    "* Checks if entry has already been made for the same word\n",
    "* To exit the loop give any input of `len(word) < 3`\n",
    "* It is saved after every entry"
   ]
  },
  {
   "cell_type": "code",
   "execution_count": 1,
   "metadata": {},
   "outputs": [
    {
     "name": "stdout",
     "output_type": "stream",
     "text": [
      "Enter the source: \n",
      "Source = mag_c1\n",
      "\n",
      "\n",
      "Enter the Word:  \n",
      "\n",
      "ENDING THE ENTRY!\n",
      "\n",
      "Word Count in mag_c1: 0\n"
     ]
    }
   ],
   "source": [
    "import pandas as pds\n",
    "import os\n",
    "import numpy as np\n",
    "import pickle\n",
    "\n",
    "columns = [\"Source\", \"Word\", \"Meaning\", \"Usage\", \"Correct\", \"Incorrect\", \"Score\"]\n",
    "\n",
    "def numberOfEntries(df, source):\n",
    "    cond = (df[\"Source\"]==source)\n",
    "    return len(df[\"Word\"][cond])\n",
    "\n",
    "default = \"MAG_C1\"\n",
    "source = input(\"Enter the source: \").lower()\n",
    "if len(source)==0:\n",
    "    source = default.lower()\n",
    "    \n",
    "print(\"Source = %s\\n\\n\"%source)\n",
    "\n",
    "if os.path.exists(\"./dataFrame.p\"):\n",
    "    df = pickle.load(open(\"./dataFrame.p\", \"rb\"))\n",
    "else:\n",
    "    df = pds.DataFrame(columns=columns)\n",
    "\n",
    "while(True):\n",
    "    entry = {\"Source\":source,\n",
    "            \"Correct\":0,\n",
    "            \"Incorrect\":0,\n",
    "            \"Score\":-1.0}\n",
    "    for col in [\"Word\", \"Meaning\", \"Usage\"]:\n",
    "        entry[col] = input(\"Enter the %s: \"%col).lower()\n",
    "        if len(entry[col])<3:\n",
    "            entry = {\"Source\":\"NULL\"}\n",
    "            break;\n",
    "    if entry[\"Source\"] != \"NULL\":\n",
    "        cond = (df[\"Word\"] == entry[\"Word\"])\n",
    "        if cond.any():\n",
    "            index = df[cond].index[0]\n",
    "            row = df.iloc[index]\n",
    "            print(\"\\nWord %s exists from %s\\n\\t%s = %s\\n\\tEx: %s\\n\"%(row[\"Word\"], row[\"Source\"], \n",
    "                                                               row[\"Word\"], row[\"Meaning\"], \n",
    "                                                               row[\"Usage\"]))\n",
    "            cmd = input(\"Do you wish to replace? Y/N \").lower()\n",
    "            if cmd=='y':\n",
    "                df.at[index, \"Meaning\"] = entry[\"Meaning\"]\n",
    "                df.at[index, \"Usage\"] = entry[\"Usage\"]\n",
    "                print(\"Modification for %s is done\"%(entry[\"Word\"]))\n",
    "                pickle.dump(df, open(\"./dataFrame.p\", \"wb\"))\n",
    "        else:\n",
    "            df = df.append(entry, ignore_index=True, )\n",
    "            pickle.dump(df, open(\"./dataFrame.p\", \"wb\"))\n",
    "            print(\"Entry of '%s' made\\nCurrent entry count:%d\\n\"%(entry[\"Word\"], numberOfEntries(df, source)))\n",
    "    else:\n",
    "        print(\"\\nEnding the entry!\".upper())\n",
    "        break\n",
    "\n",
    "print(\"\\nWord Count in %s: %d\"%(source, numberOfEntries(df, source)))"
   ]
  },
  {
   "cell_type": "markdown",
   "metadata": {},
   "source": [
    "# Dictionary implementation\n",
    "* Paste this cell into a terminal of the same directory and go nuts!\n",
    "* Given a word, its meaning and other details will be given"
   ]
  },
  {
   "cell_type": "code",
   "execution_count": 27,
   "metadata": {
    "scrolled": true
   },
   "outputs": [
    {
     "name": "stdout",
     "output_type": "stream",
     "text": [
      "Enter the word: clc\n",
      "Enter the word:  \n",
      "\n",
      "DICTIONARY CLOSED!\n"
     ]
    }
   ],
   "source": [
    "import pandas as pds\n",
    "import os\n",
    "import numpy as np\n",
    "import pickle\n",
    "\n",
    "columns = [\"Source\", \"Word\", \"Meaning\", \"Usage\", \"Correct\", \"Incorrect\", \"Score\"]\n",
    "\n",
    "while(True):\n",
    "    if os.path.exists(\"./dataFrame.p\"):\n",
    "        df = pickle.load(open(\"./dataFrame.p\", \"rb\"))\n",
    "    else:\n",
    "        df = pds.DataFrame(columns=columns)\n",
    "    word = input(\"Enter the word: \").lower()\n",
    "    if word==\"clc\":\n",
    "        os.system(\"clear\")\n",
    "    if len(word)<3:\n",
    "        print(\"\\nDictionary closed!\".upper())\n",
    "        break\n",
    "    cond = (df[\"Word\"] == word)\n",
    "    if cond.any():\n",
    "        index = df[cond].index[0]\n",
    "        row = df.iloc[index]\n",
    "        mean = row[\"Meaning\"]\n",
    "        mean = mean.replace(\"2\" , \"\\n2\")\n",
    "        usage = row[\"Usage\"]\n",
    "        usage = usage.replace(\"2\", \"\\n2\")\n",
    "        print(\"\\nSource : %s\\n%s = %s\\n\\nEx: %s\\n\"%(row[\"Source\"], row[\"Word\"], \n",
    "                                                mean, usage))\n",
    "    else:\n",
    "        print(\"Word '%s' not found in database.\\nPlease check spelling or Enter the word in entry section\\n\"%word)"
   ]
  },
  {
   "cell_type": "markdown",
   "metadata": {},
   "source": [
    "# Print the words into a file"
   ]
  },
  {
   "cell_type": "code",
   "execution_count": 15,
   "metadata": {},
   "outputs": [],
   "source": [
    "import pandas as pds\n",
    "import os\n",
    "import numpy as np\n",
    "import pickle\n",
    "\n",
    "columns = [\"Source\", \"Word\", \"Meaning\", \"Usage\", \"Correct\", \"Incorrect\", \"Score\"]\n",
    "df = pickle.load(open(\"./dataFrame.p\", \"rb\"))\n",
    "sorted_df = df.sort_values(by=\"Word\")\n",
    "\n",
    "f = open(\"Corpus.txt\", \"w\")\n",
    "for (word,meaning,usage) in zip(sorted_df[\"Word\"], \n",
    "                                       sorted_df[\"Meaning\"], \n",
    "                                       sorted_df[\"Usage\"]):\n",
    "    meaning = meaning.replace(\"2\", \"\\n2\")\n",
    "    usage = usage.replace(\"2\", \"\\n2\")\n",
    "    f.write(\"%s:\\n%s\\nEx:\\n%s\\n\\n\"%(word, meaning, usage))\n",
    "\n",
    "f.close()"
   ]
  }
 ],
 "metadata": {
  "kernelspec": {
   "display_name": "Python 3",
   "language": "python",
   "name": "python3"
  },
  "language_info": {
   "codemirror_mode": {
    "name": "ipython",
    "version": 3
   },
   "file_extension": ".py",
   "mimetype": "text/x-python",
   "name": "python",
   "nbconvert_exporter": "python",
   "pygments_lexer": "ipython3",
   "version": "3.5.2"
  }
 },
 "nbformat": 4,
 "nbformat_minor": 2
}
